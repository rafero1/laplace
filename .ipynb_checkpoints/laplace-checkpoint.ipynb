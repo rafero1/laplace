{
 "cells": [
  {
   "cell_type": "markdown",
   "id": "e76a72f8",
   "metadata": {},
   "source": [
    "# Mecanismo de Laplace"
   ]
  },
  {
   "cell_type": "markdown",
   "id": "f422b055",
   "metadata": {},
   "source": [
    "## Importações e definições de variáveis/funções globais"
   ]
  },
  {
   "cell_type": "code",
   "execution_count": 1,
   "id": "0856f03a",
   "metadata": {},
   "outputs": [],
   "source": [
    "import numpy as np\n",
    "import pandas as pd\n",
    "import sympy\n",
    "from datetime import datetime, date\n",
    "from dateutil.relativedelta import relativedelta\n",
    "\n",
    "filename        = \"Dataset_Covid_CE.csv\"\n",
    "filename_out    = \"Dataset_Covid_CE_Laplace.csv\"\n",
    "\n",
    "epsilons = [0.1, 0.5, 1.0, 10]\n",
    "\n",
    "# df_municipios = pd.read_csv('ce-cities-lat-lon-format.csv')"
   ]
  },
  {
   "cell_type": "markdown",
   "id": "3bcb2489",
   "metadata": {},
   "source": [
    "## Leitura e limpeza do dataset inicial\n",
    "Fazemos apenas uma limpeza básica para não modificar muito os resultados do algoritmo."
   ]
  },
  {
   "cell_type": "code",
   "execution_count": 2,
   "id": "d282f7ab",
   "metadata": {},
   "outputs": [
    {
     "data": {
      "text/html": [
       "<div>\n",
       "<style scoped>\n",
       "    .dataframe tbody tr th:only-of-type {\n",
       "        vertical-align: middle;\n",
       "    }\n",
       "\n",
       "    .dataframe tbody tr th {\n",
       "        vertical-align: top;\n",
       "    }\n",
       "\n",
       "    .dataframe thead th {\n",
       "        text-align: right;\n",
       "    }\n",
       "</style>\n",
       "<table border=\"1\" class=\"dataframe\">\n",
       "  <thead>\n",
       "    <tr style=\"text-align: right;\">\n",
       "      <th></th>\n",
       "      <th>municipioCaso</th>\n",
       "      <th>dataNascimento</th>\n",
       "      <th>resultadoFinalExame</th>\n",
       "      <th>idade</th>\n",
       "    </tr>\n",
       "  </thead>\n",
       "  <tbody>\n",
       "    <tr>\n",
       "      <th>19</th>\n",
       "      <td>SOBRAL</td>\n",
       "      <td>2003-08-14</td>\n",
       "      <td>Negativo</td>\n",
       "      <td>18</td>\n",
       "    </tr>\n",
       "    <tr>\n",
       "      <th>20</th>\n",
       "      <td>PACAJUS</td>\n",
       "      <td>1983-11-07</td>\n",
       "      <td>Negativo</td>\n",
       "      <td>37</td>\n",
       "    </tr>\n",
       "    <tr>\n",
       "      <th>21</th>\n",
       "      <td>HORIZONTE</td>\n",
       "      <td>1982-01-14</td>\n",
       "      <td>Negativo</td>\n",
       "      <td>39</td>\n",
       "    </tr>\n",
       "    <tr>\n",
       "      <th>25</th>\n",
       "      <td>FORTALEZA</td>\n",
       "      <td>1992-03-12</td>\n",
       "      <td>Negativo</td>\n",
       "      <td>29</td>\n",
       "    </tr>\n",
       "    <tr>\n",
       "      <th>28</th>\n",
       "      <td>CAUCAIA</td>\n",
       "      <td>1970-03-06</td>\n",
       "      <td>Negativo</td>\n",
       "      <td>51</td>\n",
       "    </tr>\n",
       "    <tr>\n",
       "      <th>...</th>\n",
       "      <td>...</td>\n",
       "      <td>...</td>\n",
       "      <td>...</td>\n",
       "      <td>...</td>\n",
       "    </tr>\n",
       "    <tr>\n",
       "      <th>1266272</th>\n",
       "      <td>FORTALEZA</td>\n",
       "      <td>1982-12-08</td>\n",
       "      <td>Positivo</td>\n",
       "      <td>38</td>\n",
       "    </tr>\n",
       "    <tr>\n",
       "      <th>1266273</th>\n",
       "      <td>FORTALEZA</td>\n",
       "      <td>1980-12-02</td>\n",
       "      <td>Negativo</td>\n",
       "      <td>40</td>\n",
       "    </tr>\n",
       "    <tr>\n",
       "      <th>1266274</th>\n",
       "      <td>FORTALEZA</td>\n",
       "      <td>1988-05-17</td>\n",
       "      <td>Provável</td>\n",
       "      <td>33</td>\n",
       "    </tr>\n",
       "    <tr>\n",
       "      <th>1266275</th>\n",
       "      <td>CRATEUS</td>\n",
       "      <td>1970-09-28</td>\n",
       "      <td>Negativo</td>\n",
       "      <td>50</td>\n",
       "    </tr>\n",
       "    <tr>\n",
       "      <th>1266276</th>\n",
       "      <td>JUAZEIRO DO NORTE</td>\n",
       "      <td>1998-12-14</td>\n",
       "      <td>Positivo</td>\n",
       "      <td>22</td>\n",
       "    </tr>\n",
       "  </tbody>\n",
       "</table>\n",
       "<p>881011 rows × 4 columns</p>\n",
       "</div>"
      ],
      "text/plain": [
       "             municipioCaso dataNascimento resultadoFinalExame  idade\n",
       "19                  SOBRAL     2003-08-14            Negativo     18\n",
       "20                 PACAJUS     1983-11-07            Negativo     37\n",
       "21               HORIZONTE     1982-01-14            Negativo     39\n",
       "25               FORTALEZA     1992-03-12            Negativo     29\n",
       "28                 CAUCAIA     1970-03-06            Negativo     51\n",
       "...                    ...            ...                 ...    ...\n",
       "1266272          FORTALEZA     1982-12-08            Positivo     38\n",
       "1266273          FORTALEZA     1980-12-02            Negativo     40\n",
       "1266274          FORTALEZA     1988-05-17            Provável     33\n",
       "1266275            CRATEUS     1970-09-28            Negativo     50\n",
       "1266276  JUAZEIRO DO NORTE     1998-12-14            Positivo     22\n",
       "\n",
       "[881011 rows x 4 columns]"
      ]
     },
     "execution_count": 2,
     "metadata": {},
     "output_type": "execute_result"
    }
   ],
   "source": [
    "# definição dos semi-identificadores\n",
    "semi_ids = [\n",
    "    \"municipioCaso\",\n",
    "    \"resultadoFinalExame\",\n",
    "    \"dataNascimento\",\n",
    "]\n",
    "\n",
    "# definição dos atributos sensíveis\n",
    "sensitive = [\n",
    "    \"comorbidadeCardiovascularSivep\",\n",
    "    \"comorbidadeDiabetesSivep\",\n",
    "]\n",
    "\n",
    "# definição dos tipos\n",
    "dtype = {\n",
    "    \"municipioCaso\"                  : \"str\",\n",
    "    \"resultadoFinalExame\"            : \"str\",\n",
    "    \"dataNascimento\"                 : \"str\",\n",
    "    \"comorbidadeCardiovascularSivep\" : \"str\",\n",
    "    \"comorbidadeDiabetesSivep\"       : \"str\",\n",
    "}\n",
    "\n",
    "# definição das colunas de data\n",
    "dates = [\n",
    "    \"dataNascimento\",\n",
    "]\n",
    "date_parser = lambda x: pd.to_datetime(x, format=\"%Y-%m-%d\", errors = 'coerce')\n",
    "\n",
    "# pegar apenas os atributos desejados do dataset\n",
    "df = pd.read_csv(filename, usecols=semi_ids, dtype=dtype, parse_dates=dates, date_parser=date_parser)\n",
    "df = df.dropna(how=\"any\", subset=semi_ids) # remover registros com semi_ids nulo\n",
    "df = df.drop(df.loc[df['dataNascimento'].dt.year < 1901].index) # remover registros antes do século 20 e 21\n",
    "df['municipioCaso'] = df['municipioCaso'].str.normalize('NFKD').str.encode('ascii', errors='ignore').str.decode('utf-8') # remove acentuação\n",
    "\n",
    "# add campo de idade\n",
    "now = pd.to_datetime('now')\n",
    "def cal_age(birth):\n",
    "    r = relativedelta(now, birth)\n",
    "    return r.years\n",
    "\n",
    "df['idade'] = df['dataNascimento'].apply(cal_age)\n",
    "# df['idade'] = now.year - df['dataNascimento'].dt.year # mais rápido, porém contem margem de erro devido aos anos bissextos\n",
    "\n",
    "df"
   ]
  },
  {
   "cell_type": "markdown",
   "id": "15ab3b1b",
   "metadata": {},
   "source": [
    "## Consultas\n"
   ]
  },
  {
   "cell_type": "markdown",
   "id": "c5fbbaee",
   "metadata": {},
   "source": [
    "### Q1"
   ]
  },
  {
   "cell_type": "code",
   "execution_count": 3,
   "id": "58894bd3",
   "metadata": {},
   "outputs": [
    {
     "name": "stdout",
     "output_type": "stream",
     "text": [
      "max_age: 119\n",
      "min_age: 0\n",
      "original_mean: 40.390692057193384\n",
      "dfmax_mean: 40.39060283084187\n",
      "dfmin_mean: 40.3907379030885\n",
      "dfmax_sensitivity: 8.922635151265013e-05\n",
      "dfmin_sensitivity: 4.5845895115803614e-05\n",
      "local_sensitivity: 8.922635151265013e-05\n"
     ]
    },
    {
     "data": {
      "text/plain": [
       "40.39090700998271"
      ]
     },
     "execution_count": 3,
     "metadata": {},
     "output_type": "execute_result"
    }
   ],
   "source": [
    "def Q1(df, epsilon, verbose=False):\n",
    "    original_mean = df['idade'].mean()\n",
    "\n",
    "    dfmax = df.drop(df['idade'].idxmax())\n",
    "    dfmin = df.drop(df['idade'].idxmin())\n",
    "\n",
    "    dfmax_mean = dfmax['idade'].mean()\n",
    "    dfmin_mean = dfmin['idade'].mean()\n",
    "    \n",
    "    dfmax_sensitivity = abs(dfmax_mean - original_mean)\n",
    "    dfmin_sensitivity = abs(dfmin_mean - original_mean)\n",
    "\n",
    "    local_sensitivity = max(dfmax_sensitivity, dfmin_sensitivity)\n",
    "\n",
    "    if verbose:\n",
    "        print(f\"max_age: {df['idade'].max()}\")\n",
    "        print(f\"min_age: {df['idade'].min()}\")\n",
    "        print(f\"original_mean: {original_mean}\")\n",
    "        print(f\"dfmax_mean: {dfmax_mean}\")\n",
    "        print(f\"dfmin_mean: {dfmin_mean}\")\n",
    "        print(f\"dfmax_sensitivity: {dfmax_sensitivity}\")\n",
    "        print(f\"dfmin_sensitivity: {dfmin_sensitivity}\")\n",
    "        print(f\"local_sensitivity: {local_sensitivity}\")\n",
    "\n",
    "    # return original_mean + np.random.laplace(scale=local_sensitivity/epsilon)\n",
    "    return (df['idade'].sum() + np.random.laplace(scale=(122 - 0)/epsilon)) / (df['idade'].shape[0] + np.random.laplace(scale=1/epsilon))\n",
    "\n",
    "Q1(df, 1, verbose=True)"
   ]
  },
  {
   "cell_type": "code",
   "execution_count": 4,
   "id": "847b3e36",
   "metadata": {},
   "outputs": [
    {
     "data": {
      "text/plain": [
       "{'original': 40.390692057193384,\n",
       " 0.1: 40.391762858956085,\n",
       " 0.5: 40.390842391061916,\n",
       " 1.0: 40.3906125418013,\n",
       " 10: 40.39069858675246}"
      ]
     },
     "execution_count": 4,
     "metadata": {},
     "output_type": "execute_result"
    }
   ],
   "source": [
    "# média de 10 execuções para cada valor de epsilon\n",
    "q1_epsilon_results = {'original': df['idade'].mean()}\n",
    "for epsilon in epsilons:\n",
    "    q1_epsilon_results[epsilon] = np.mean([Q1(df, epsilon) for _ in range(10)])\n",
    "q1_epsilon_results"
   ]
  },
  {
   "cell_type": "markdown",
   "id": "94522b0c",
   "metadata": {},
   "source": [
    "### Q2"
   ]
  },
  {
   "cell_type": "code",
   "execution_count": 5,
   "id": "310bd921",
   "metadata": {},
   "outputs": [
    {
     "name": "stdout",
     "output_type": "stream",
     "text": [
      "original_count: 266235\n",
      "local_sensitivity: 1\n"
     ]
    },
    {
     "data": {
      "text/plain": [
       "266236.5300467745"
      ]
     },
     "execution_count": 5,
     "metadata": {},
     "output_type": "execute_result"
    }
   ],
   "source": [
    "def Q2(df, epsilon, verbose=False):\n",
    "    original_count = df[df['resultadoFinalExame'] == 'Positivo'].shape[0]\n",
    "\n",
    "    # operação count sempre tem sensibilidade local 1\n",
    "    local_sensitivity = 1\n",
    "\n",
    "    if verbose:\n",
    "        print(f\"original_count: {original_count}\")\n",
    "        print(f\"local_sensitivity: {local_sensitivity}\")\n",
    "\n",
    "    return original_count + np.random.laplace(scale=local_sensitivity/epsilon)\n",
    "\n",
    "Q2(df, 1, verbose=True)"
   ]
  },
  {
   "cell_type": "code",
   "execution_count": 6,
   "id": "02cfea78",
   "metadata": {},
   "outputs": [
    {
     "data": {
      "text/plain": [
       "{'original': 266235,\n",
       " 0.1: 266237.90540621977,\n",
       " 0.5: 266234.2396612222,\n",
       " 1.0: 266235.5329898936,\n",
       " 10: 266235.01255174493}"
      ]
     },
     "execution_count": 6,
     "metadata": {},
     "output_type": "execute_result"
    }
   ],
   "source": [
    "# média de 10 execuções para cada valor de epsilon\n",
    "q2_epsilon_results = {'original': df[df['resultadoFinalExame'] == 'Positivo'].shape[0]}\n",
    "for epsilon in epsilons:\n",
    "    q2_epsilon_results[epsilon] = np.mean([Q2(df, epsilon) for _ in range(10)]) \n",
    "q2_epsilon_results"
   ]
  },
  {
   "cell_type": "markdown",
   "id": "07a43b0e",
   "metadata": {},
   "source": [
    "### Q3"
   ]
  },
  {
   "cell_type": "code",
   "execution_count": 7,
   "id": "65c2e540",
   "metadata": {},
   "outputs": [
    {
     "name": "stdout",
     "output_type": "stream",
     "text": [
      "original_counts: municipioCaso\n",
      "ABAIARA             617\n",
      "ACARAPE            2910\n",
      "ACARAU             6844\n",
      "ACOPIARA           3069\n",
      "AIUABA              391\n",
      "                   ... \n",
      "URUBURETAMA        1500\n",
      "URUOCA             1926\n",
      "VARJOTA            2679\n",
      "VARZEA ALEGRE      3245\n",
      "VICOSA DO CEARA    4180\n",
      "Length: 184, dtype: int64\n",
      "local_sensitivity: 1\n"
     ]
    },
    {
     "data": {
      "text/plain": [
       "municipioCaso\n",
       "ABAIARA             619.393119\n",
       "ACARAPE            2909.551061\n",
       "ACARAU             6842.651382\n",
       "ACOPIARA           3066.901916\n",
       "AIUABA              391.577759\n",
       "                      ...     \n",
       "URUBURETAMA        1499.124826\n",
       "URUOCA             1927.391101\n",
       "VARJOTA            2678.673961\n",
       "VARZEA ALEGRE      3247.027287\n",
       "VICOSA DO CEARA    4179.248722\n",
       "Length: 184, dtype: float64"
      ]
     },
     "execution_count": 7,
     "metadata": {},
     "output_type": "execute_result"
    }
   ],
   "source": [
    "def Q3(df, epsilon, verbose=False):\n",
    "    # pega contagem de exames agrupada por municipio\n",
    "    original_counts = df.groupby('municipioCaso').size()\n",
    "\n",
    "    # operação count sempre tem sensibilidade local 1\n",
    "    local_sensitivity = 1\n",
    "\n",
    "    if verbose:\n",
    "        print(f\"original_counts: {original_counts}\")\n",
    "        print(f\"local_sensitivity: {local_sensitivity}\")\n",
    "\n",
    "    # retorna contagem com ruído. um ruído é gerado para cada município\n",
    "    return original_counts + [np.random.laplace(scale=local_sensitivity/epsilon) for _ in range(len(original_counts))]\n",
    "\n",
    "Q3(df, 1, verbose=True)"
   ]
  },
  {
   "cell_type": "code",
   "execution_count": 8,
   "id": "f6f5954c",
   "metadata": {},
   "outputs": [
    {
     "data": {
      "text/plain": [
       "{'original': municipioCaso\n",
       " ABAIARA             617\n",
       " ACARAPE            2910\n",
       " ACARAU             6844\n",
       " ACOPIARA           3069\n",
       " AIUABA              391\n",
       "                    ... \n",
       " URUBURETAMA        1500\n",
       " URUOCA             1926\n",
       " VARJOTA            2679\n",
       " VARZEA ALEGRE      3245\n",
       " VICOSA DO CEARA    4180\n",
       " Length: 184, dtype: int64,\n",
       " 0.1: municipioCaso\n",
       " ABAIARA             621.848130\n",
       " ACARAPE            2909.677597\n",
       " ACARAU             6844.190748\n",
       " ACOPIARA           3069.110317\n",
       " AIUABA              392.933914\n",
       "                       ...     \n",
       " URUBURETAMA        1504.757049\n",
       " URUOCA             1928.788195\n",
       " VARJOTA            2676.003052\n",
       " VARZEA ALEGRE      3244.994832\n",
       " VICOSA DO CEARA    4178.482088\n",
       " Length: 184, dtype: float64,\n",
       " 0.5: municipioCaso\n",
       " ABAIARA             616.191797\n",
       " ACARAPE            2909.263493\n",
       " ACARAU             6843.464571\n",
       " ACOPIARA           3067.852996\n",
       " AIUABA              392.850209\n",
       "                       ...     \n",
       " URUBURETAMA        1499.236676\n",
       " URUOCA             1926.841143\n",
       " VARJOTA            2679.239042\n",
       " VARZEA ALEGRE      3243.772226\n",
       " VICOSA DO CEARA    4181.091259\n",
       " Length: 184, dtype: float64,\n",
       " 1.0: municipioCaso\n",
       " ABAIARA             616.419619\n",
       " ACARAPE            2909.961665\n",
       " ACARAU             6844.013099\n",
       " ACOPIARA           3068.727704\n",
       " AIUABA              390.651102\n",
       "                       ...     \n",
       " URUBURETAMA        1499.626450\n",
       " URUOCA             1925.662166\n",
       " VARJOTA            2679.030268\n",
       " VARZEA ALEGRE      3244.937004\n",
       " VICOSA DO CEARA    4179.565907\n",
       " Length: 184, dtype: float64,\n",
       " 10: municipioCaso\n",
       " ABAIARA             616.960705\n",
       " ACARAPE            2910.059323\n",
       " ACARAU             6843.983457\n",
       " ACOPIARA           3069.005381\n",
       " AIUABA              391.019227\n",
       "                       ...     \n",
       " URUBURETAMA        1500.009644\n",
       " URUOCA             1925.986684\n",
       " VARJOTA            2679.013259\n",
       " VARZEA ALEGRE      3244.987989\n",
       " VICOSA DO CEARA    4179.980330\n",
       " Length: 184, dtype: float64}"
      ]
     },
     "execution_count": 8,
     "metadata": {},
     "output_type": "execute_result"
    }
   ],
   "source": [
    "# média de 10 execuções para cada valor de epsilon\n",
    "q3_epsilon_results = {'original': df.groupby('municipioCaso').size()}\n",
    "n = 10\n",
    "for epsilon in epsilons:\n",
    "    q3_epsilon_results[epsilon] = 0\n",
    "    for _ in range(n):\n",
    "        q3_epsilon_results[epsilon] = q3_epsilon_results[epsilon] + Q3(df, epsilon)\n",
    "    q3_epsilon_results[epsilon] = q3_epsilon_results[epsilon] / n\n",
    "q3_epsilon_results"
   ]
  },
  {
   "cell_type": "markdown",
   "id": "cef8e821",
   "metadata": {},
   "source": [
    "## Gerar CSVs"
   ]
  },
  {
   "cell_type": "code",
   "execution_count": 9,
   "id": "e0ce86be",
   "metadata": {},
   "outputs": [
    {
     "data": {
      "text/html": [
       "<div>\n",
       "<style scoped>\n",
       "    .dataframe tbody tr th:only-of-type {\n",
       "        vertical-align: middle;\n",
       "    }\n",
       "\n",
       "    .dataframe tbody tr th {\n",
       "        vertical-align: top;\n",
       "    }\n",
       "\n",
       "    .dataframe thead th {\n",
       "        text-align: right;\n",
       "    }\n",
       "</style>\n",
       "<table border=\"1\" class=\"dataframe\">\n",
       "  <thead>\n",
       "    <tr style=\"text-align: right;\">\n",
       "      <th></th>\n",
       "      <th>q1</th>\n",
       "      <th>q2</th>\n",
       "    </tr>\n",
       "  </thead>\n",
       "  <tbody>\n",
       "    <tr>\n",
       "      <th>original</th>\n",
       "      <td>40.390692</td>\n",
       "      <td>266235.000000</td>\n",
       "    </tr>\n",
       "    <tr>\n",
       "      <th>0.1</th>\n",
       "      <td>40.391763</td>\n",
       "      <td>266237.905406</td>\n",
       "    </tr>\n",
       "    <tr>\n",
       "      <th>0.5</th>\n",
       "      <td>40.390842</td>\n",
       "      <td>266234.239661</td>\n",
       "    </tr>\n",
       "    <tr>\n",
       "      <th>1.0</th>\n",
       "      <td>40.390613</td>\n",
       "      <td>266235.532990</td>\n",
       "    </tr>\n",
       "    <tr>\n",
       "      <th>10</th>\n",
       "      <td>40.390699</td>\n",
       "      <td>266235.012552</td>\n",
       "    </tr>\n",
       "  </tbody>\n",
       "</table>\n",
       "</div>"
      ],
      "text/plain": [
       "                 q1             q2\n",
       "original  40.390692  266235.000000\n",
       "0.1       40.391763  266237.905406\n",
       "0.5       40.390842  266234.239661\n",
       "1.0       40.390613  266235.532990\n",
       "10        40.390699  266235.012552"
      ]
     },
     "execution_count": 9,
     "metadata": {},
     "output_type": "execute_result"
    }
   ],
   "source": [
    "dfq1q2 = pd.DataFrame({\n",
    "    'q1': q1_epsilon_results,\n",
    "    'q2': q2_epsilon_results,\n",
    "})\n",
    "dfq1q2"
   ]
  },
  {
   "cell_type": "code",
   "execution_count": 10,
   "id": "8ab2c5a0",
   "metadata": {},
   "outputs": [
    {
     "data": {
      "text/html": [
       "<div>\n",
       "<style scoped>\n",
       "    .dataframe tbody tr th:only-of-type {\n",
       "        vertical-align: middle;\n",
       "    }\n",
       "\n",
       "    .dataframe tbody tr th {\n",
       "        vertical-align: top;\n",
       "    }\n",
       "\n",
       "    .dataframe thead th {\n",
       "        text-align: right;\n",
       "    }\n",
       "</style>\n",
       "<table border=\"1\" class=\"dataframe\">\n",
       "  <thead>\n",
       "    <tr style=\"text-align: right;\">\n",
       "      <th></th>\n",
       "      <th>original</th>\n",
       "      <th>0.1</th>\n",
       "      <th>0.5</th>\n",
       "      <th>1.0</th>\n",
       "      <th>10</th>\n",
       "    </tr>\n",
       "    <tr>\n",
       "      <th>municipioCaso</th>\n",
       "      <th></th>\n",
       "      <th></th>\n",
       "      <th></th>\n",
       "      <th></th>\n",
       "      <th></th>\n",
       "    </tr>\n",
       "  </thead>\n",
       "  <tbody>\n",
       "    <tr>\n",
       "      <th>ABAIARA</th>\n",
       "      <td>617</td>\n",
       "      <td>621.848130</td>\n",
       "      <td>616.191797</td>\n",
       "      <td>616.419619</td>\n",
       "      <td>616.960705</td>\n",
       "    </tr>\n",
       "    <tr>\n",
       "      <th>ACARAPE</th>\n",
       "      <td>2910</td>\n",
       "      <td>2909.677597</td>\n",
       "      <td>2909.263493</td>\n",
       "      <td>2909.961665</td>\n",
       "      <td>2910.059323</td>\n",
       "    </tr>\n",
       "    <tr>\n",
       "      <th>ACARAU</th>\n",
       "      <td>6844</td>\n",
       "      <td>6844.190748</td>\n",
       "      <td>6843.464571</td>\n",
       "      <td>6844.013099</td>\n",
       "      <td>6843.983457</td>\n",
       "    </tr>\n",
       "    <tr>\n",
       "      <th>ACOPIARA</th>\n",
       "      <td>3069</td>\n",
       "      <td>3069.110317</td>\n",
       "      <td>3067.852996</td>\n",
       "      <td>3068.727704</td>\n",
       "      <td>3069.005381</td>\n",
       "    </tr>\n",
       "    <tr>\n",
       "      <th>AIUABA</th>\n",
       "      <td>391</td>\n",
       "      <td>392.933914</td>\n",
       "      <td>392.850209</td>\n",
       "      <td>390.651102</td>\n",
       "      <td>391.019227</td>\n",
       "    </tr>\n",
       "    <tr>\n",
       "      <th>...</th>\n",
       "      <td>...</td>\n",
       "      <td>...</td>\n",
       "      <td>...</td>\n",
       "      <td>...</td>\n",
       "      <td>...</td>\n",
       "    </tr>\n",
       "    <tr>\n",
       "      <th>URUBURETAMA</th>\n",
       "      <td>1500</td>\n",
       "      <td>1504.757049</td>\n",
       "      <td>1499.236676</td>\n",
       "      <td>1499.626450</td>\n",
       "      <td>1500.009644</td>\n",
       "    </tr>\n",
       "    <tr>\n",
       "      <th>URUOCA</th>\n",
       "      <td>1926</td>\n",
       "      <td>1928.788195</td>\n",
       "      <td>1926.841143</td>\n",
       "      <td>1925.662166</td>\n",
       "      <td>1925.986684</td>\n",
       "    </tr>\n",
       "    <tr>\n",
       "      <th>VARJOTA</th>\n",
       "      <td>2679</td>\n",
       "      <td>2676.003052</td>\n",
       "      <td>2679.239042</td>\n",
       "      <td>2679.030268</td>\n",
       "      <td>2679.013259</td>\n",
       "    </tr>\n",
       "    <tr>\n",
       "      <th>VARZEA ALEGRE</th>\n",
       "      <td>3245</td>\n",
       "      <td>3244.994832</td>\n",
       "      <td>3243.772226</td>\n",
       "      <td>3244.937004</td>\n",
       "      <td>3244.987989</td>\n",
       "    </tr>\n",
       "    <tr>\n",
       "      <th>VICOSA DO CEARA</th>\n",
       "      <td>4180</td>\n",
       "      <td>4178.482088</td>\n",
       "      <td>4181.091259</td>\n",
       "      <td>4179.565907</td>\n",
       "      <td>4179.980330</td>\n",
       "    </tr>\n",
       "  </tbody>\n",
       "</table>\n",
       "<p>184 rows × 5 columns</p>\n",
       "</div>"
      ],
      "text/plain": [
       "                 original          0.1          0.5          1.0           10\n",
       "municipioCaso                                                                \n",
       "ABAIARA               617   621.848130   616.191797   616.419619   616.960705\n",
       "ACARAPE              2910  2909.677597  2909.263493  2909.961665  2910.059323\n",
       "ACARAU               6844  6844.190748  6843.464571  6844.013099  6843.983457\n",
       "ACOPIARA             3069  3069.110317  3067.852996  3068.727704  3069.005381\n",
       "AIUABA                391   392.933914   392.850209   390.651102   391.019227\n",
       "...                   ...          ...          ...          ...          ...\n",
       "URUBURETAMA          1500  1504.757049  1499.236676  1499.626450  1500.009644\n",
       "URUOCA               1926  1928.788195  1926.841143  1925.662166  1925.986684\n",
       "VARJOTA              2679  2676.003052  2679.239042  2679.030268  2679.013259\n",
       "VARZEA ALEGRE        3245  3244.994832  3243.772226  3244.937004  3244.987989\n",
       "VICOSA DO CEARA      4180  4178.482088  4181.091259  4179.565907  4179.980330\n",
       "\n",
       "[184 rows x 5 columns]"
      ]
     },
     "execution_count": 10,
     "metadata": {},
     "output_type": "execute_result"
    }
   ],
   "source": [
    "dfq3 = pd.DataFrame(q3_epsilon_results)\n",
    "dfq3"
   ]
  },
  {
   "cell_type": "code",
   "execution_count": 11,
   "id": "7ce1726f",
   "metadata": {},
   "outputs": [],
   "source": [
    "df.to_csv(filename[:-4] + '_Clean.csv', index=False)\n",
    "dfq1q2.to_csv(filename_out[:-4] + '_Q1_Q2.csv')\n",
    "dfq3.to_csv(filename_out[:-4] + '_Q3.csv')"
   ]
  }
 ],
 "metadata": {
  "interpreter": {
   "hash": "e93f6d491c598f50814dc5f717749806d92b79f46498a782631365d42368f0bc"
  },
  "kernelspec": {
   "display_name": "Python 3",
   "language": "python",
   "name": "python3"
  },
  "language_info": {
   "codemirror_mode": {
    "name": "ipython",
    "version": 3
   },
   "file_extension": ".py",
   "mimetype": "text/x-python",
   "name": "python",
   "nbconvert_exporter": "python",
   "pygments_lexer": "ipython3",
   "version": "3.8.8"
  }
 },
 "nbformat": 4,
 "nbformat_minor": 5
}
