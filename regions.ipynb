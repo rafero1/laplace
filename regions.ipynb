{
 "cells": [
  {
   "cell_type": "markdown",
   "source": [
    "# Tratamento do csv de regiões\r\n",
    "Para ajudar na escolha de municípios"
   ],
   "metadata": {}
  },
  {
   "cell_type": "code",
   "execution_count": 18,
   "source": [
    "import pandas as pd\r\n",
    "\r\n",
    "df = pd.read_csv('ce-regions.csv', header=0, names=['municipioCaso', 'regiaoPlanejamentoCaso'])\r\n",
    "df_geo = pd.read_csv('data-spider.csv', header=0, names=['municipioCaso', 'lat', 'lon'])"
   ],
   "outputs": [],
   "metadata": {}
  },
  {
   "cell_type": "markdown",
   "source": [
    "Transformar para UPPERCASE e remover acentuação"
   ],
   "metadata": {}
  },
  {
   "cell_type": "code",
   "execution_count": 19,
   "source": [
    "# erro do nome da cidade no site\r\n",
    "df_geo['municipioCaso'] = df_geo['municipioCaso'].replace('Itapagé', 'Itapajé')\r\n",
    "\r\n",
    "for col in ['municipioCaso', 'regiaoPlanejamentoCaso']:\r\n",
    "    df[col] = df[col].str.upper()\r\n",
    "    df[col] = df[col].str.normalize('NFKD').str.encode('ascii', errors='ignore').str.decode('utf-8')\r\n",
    "\r\n",
    "for col in ['municipioCaso']:\r\n",
    "    df_geo[col] = df_geo[col].str.upper()\r\n",
    "    df_geo[col] = df_geo[col].str.normalize('NFKD').str.encode('ascii', errors='ignore').str.decode('utf-8')"
   ],
   "outputs": [],
   "metadata": {}
  },
  {
   "cell_type": "code",
   "execution_count": 20,
   "source": [
    "ndf = df.merge(df_geo, on='municipioCaso')\r\n",
    "ndf"
   ],
   "outputs": [
    {
     "output_type": "execute_result",
     "data": {
      "text/plain": [
       "         municipioCaso regiaoPlanejamentoCaso      lat      lon\n",
       "0              MASSAPE       SERTAO DE SOBRAL -3.52126 -40.3410\n",
       "1    SANTANA DO ACARAU       SERTAO DE SOBRAL -3.46085 -40.2177\n",
       "2               SOBRAL       SERTAO DE SOBRAL -3.68274 -40.3512\n",
       "3             GROAIRAS       SERTAO DE SOBRAL -3.91720 -40.3768\n",
       "4              MERUOCA       SERTAO DE SOBRAL -3.54634 -40.4453\n",
       "..                 ...                    ...      ...      ...\n",
       "179  SANTANA DO CARIRI                 CARIRI -7.18826 -39.7377\n",
       "180        NOVA OLINDA                 CARIRI -7.58333 -39.0833\n",
       "181           BARBALHA                 CARIRI -7.30551 -39.3025\n",
       "182          CARIRIACU                 CARIRI -7.04585 -39.2810\n",
       "183       MISSAO VELHA                 CARIRI -7.25711 -39.1458\n",
       "\n",
       "[184 rows x 4 columns]"
      ],
      "text/html": [
       "<div>\n",
       "<style scoped>\n",
       "    .dataframe tbody tr th:only-of-type {\n",
       "        vertical-align: middle;\n",
       "    }\n",
       "\n",
       "    .dataframe tbody tr th {\n",
       "        vertical-align: top;\n",
       "    }\n",
       "\n",
       "    .dataframe thead th {\n",
       "        text-align: right;\n",
       "    }\n",
       "</style>\n",
       "<table border=\"1\" class=\"dataframe\">\n",
       "  <thead>\n",
       "    <tr style=\"text-align: right;\">\n",
       "      <th></th>\n",
       "      <th>municipioCaso</th>\n",
       "      <th>regiaoPlanejamentoCaso</th>\n",
       "      <th>lat</th>\n",
       "      <th>lon</th>\n",
       "    </tr>\n",
       "  </thead>\n",
       "  <tbody>\n",
       "    <tr>\n",
       "      <th>0</th>\n",
       "      <td>MASSAPE</td>\n",
       "      <td>SERTAO DE SOBRAL</td>\n",
       "      <td>-3.52126</td>\n",
       "      <td>-40.3410</td>\n",
       "    </tr>\n",
       "    <tr>\n",
       "      <th>1</th>\n",
       "      <td>SANTANA DO ACARAU</td>\n",
       "      <td>SERTAO DE SOBRAL</td>\n",
       "      <td>-3.46085</td>\n",
       "      <td>-40.2177</td>\n",
       "    </tr>\n",
       "    <tr>\n",
       "      <th>2</th>\n",
       "      <td>SOBRAL</td>\n",
       "      <td>SERTAO DE SOBRAL</td>\n",
       "      <td>-3.68274</td>\n",
       "      <td>-40.3512</td>\n",
       "    </tr>\n",
       "    <tr>\n",
       "      <th>3</th>\n",
       "      <td>GROAIRAS</td>\n",
       "      <td>SERTAO DE SOBRAL</td>\n",
       "      <td>-3.91720</td>\n",
       "      <td>-40.3768</td>\n",
       "    </tr>\n",
       "    <tr>\n",
       "      <th>4</th>\n",
       "      <td>MERUOCA</td>\n",
       "      <td>SERTAO DE SOBRAL</td>\n",
       "      <td>-3.54634</td>\n",
       "      <td>-40.4453</td>\n",
       "    </tr>\n",
       "    <tr>\n",
       "      <th>...</th>\n",
       "      <td>...</td>\n",
       "      <td>...</td>\n",
       "      <td>...</td>\n",
       "      <td>...</td>\n",
       "    </tr>\n",
       "    <tr>\n",
       "      <th>179</th>\n",
       "      <td>SANTANA DO CARIRI</td>\n",
       "      <td>CARIRI</td>\n",
       "      <td>-7.18826</td>\n",
       "      <td>-39.7377</td>\n",
       "    </tr>\n",
       "    <tr>\n",
       "      <th>180</th>\n",
       "      <td>NOVA OLINDA</td>\n",
       "      <td>CARIRI</td>\n",
       "      <td>-7.58333</td>\n",
       "      <td>-39.0833</td>\n",
       "    </tr>\n",
       "    <tr>\n",
       "      <th>181</th>\n",
       "      <td>BARBALHA</td>\n",
       "      <td>CARIRI</td>\n",
       "      <td>-7.30551</td>\n",
       "      <td>-39.3025</td>\n",
       "    </tr>\n",
       "    <tr>\n",
       "      <th>182</th>\n",
       "      <td>CARIRIACU</td>\n",
       "      <td>CARIRI</td>\n",
       "      <td>-7.04585</td>\n",
       "      <td>-39.2810</td>\n",
       "    </tr>\n",
       "    <tr>\n",
       "      <th>183</th>\n",
       "      <td>MISSAO VELHA</td>\n",
       "      <td>CARIRI</td>\n",
       "      <td>-7.25711</td>\n",
       "      <td>-39.1458</td>\n",
       "    </tr>\n",
       "  </tbody>\n",
       "</table>\n",
       "<p>184 rows × 4 columns</p>\n",
       "</div>"
      ]
     },
     "metadata": {},
     "execution_count": 20
    }
   ],
   "metadata": {}
  },
  {
   "cell_type": "code",
   "execution_count": 21,
   "source": [
    "ndf.to_csv('ce-cities-lat-lon-format.csv', index=False)"
   ],
   "outputs": [],
   "metadata": {}
  }
 ],
 "metadata": {
  "interpreter": {
   "hash": "e93f6d491c598f50814dc5f717749806d92b79f46498a782631365d42368f0bc"
  },
  "kernelspec": {
   "name": "python3",
   "display_name": "Python 3.8.8 64-bit ('base': conda)"
  },
  "language_info": {
   "name": "python",
   "version": "3.8.8",
   "mimetype": "text/x-python",
   "codemirror_mode": {
    "name": "ipython",
    "version": 3
   },
   "pygments_lexer": "ipython3",
   "nbconvert_exporter": "python",
   "file_extension": ".py"
  },
  "orig_nbformat": 4
 },
 "nbformat": 4,
 "nbformat_minor": 2
}